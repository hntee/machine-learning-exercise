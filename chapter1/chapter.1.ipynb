{
 "cells": [
  {
   "cell_type": "markdown",
   "metadata": {},
   "source": [
    "## 1.1\n",
    "<style>\n",
    "td {\n",
    "  font-size: 50px\n",
    "}\n",
    "</style>\n",
    "表1.1只包含编号为1和4的样例如下：\n",
    "\n",
    "| 编号   |  色泽 | 根蒂  | 敲声 | 好瓜 |\n",
    "| ----- | ------| -----|-----|-----|\n",
    "| 1     | 青绿   |  蜷缩   | 浊响   |是   |\n",
    "| 4     | 乌黑   |  稍蜷   | 沉闷   |否   |\n",
    "\n",
    "上表中色泽、根蒂、敲声各有2种取值，则假设空间规模大小为 $3\\times3\\times3 + 1 = 28$. \n",
    "\n"
   ]
  },
  {
   "cell_type": "code",
   "execution_count": null,
   "metadata": {},
   "outputs": [],
   "source": [
    "'''\n",
    "生成版本空间markdown的代码：\n",
    "筛选出满足正样本，同时不满足负样本的结果，即为假设空间\n",
    "'''\n",
    "\n",
    "class Melon:\n",
    "    def __init__(self, color, root, sound):\n",
    "        self.color = color\n",
    "        self.root = root\n",
    "        self.sound = sound\n",
    "\n",
    "    def __eq__(self, other):\n",
    "        def match(a, b):\n",
    "            return \"*\" in [a, b] or a == b\n",
    "\n",
    "        return match(self.color, other.color) and match(self.root, other.root) and match(self.sound, other.sound)\n",
    "\n",
    "    def __repr__(self):\n",
    "        return \" \".join([self.color, self.root, self.sound])\n",
    "\n",
    "\n",
    "good_melons = [Melon(\"青绿\", \"蜷缩\", \"浊响\")]\n",
    "bad_melons = [Melon(\"乌黑\", \"稍蜷\", \"沉闷\")]\n",
    "\n",
    "colors = [\"青绿\", \"乌黑\", \"*\"]\n",
    "roots = [\"蜷缩\", \"稍蜷\", \"*\"]\n",
    "sounds = [\"浊响\", \"沉闷\", \"*\"]\n",
    "\n",
    "# 假设空间，共28\n",
    "# - - - 代表空\n",
    "hypothesis_space = enumerate([Melon(x, y, z) for x in colors for y in roots for z in sounds] +\n",
    "                             [Melon(\"-\", \"-\", \"-\")])\n",
    "\n",
    "# 是好瓜不是坏瓜的判断条件\n",
    "predicate = lambda x: any([x == good for good in good_melons]) and all([x != bad for bad in bad_melons])\n",
    "\n",
    "# 加上编号和判断条件\n",
    "compared = [[str(i), melon.color, melon.root, melon.sound, str(predicate(melon))]\n",
    "            for (i, melon) in hypothesis_space]\n",
    "\n",
    "# 按好瓜排序\n",
    "compared_sorted = sorted(compared, key=lambda x: x[4], reverse=True)\n",
    "\n",
    "# 生成markdown的表格\n",
    "table_header = \"\"\"\n",
    "| 编号  |  色泽 | 根蒂  | 敲声 | 好瓜 |\n",
    "| -----| ------| -----|-----|-----|\n",
    "\"\"\"\n",
    "table_body = \"\\n\".join([' |' + ' | '.join(melon) + '| ' for melon in compared_sorted])\n",
    "\n",
    "print(table_header + table_body)\n"
   ]
  },
  {
   "cell_type": "markdown",
   "metadata": {},
   "source": [
    "则假设空间为下面7种\n",
    "\n",
    "| 编号  |  色泽 | 根蒂  | 敲声 | 好瓜 |\n",
    "| -----| ------| -----|-----|-----|\n",
    " |0 | 青绿 | 蜷缩 | 浊响 | True| \n",
    " |2 | 青绿 | 蜷缩 | * | True| \n",
    " |6 | 青绿 | * | 浊响 | True| \n",
    " |8 | 青绿 | * | * | True| \n",
    " |18 | * | 蜷缩 | 浊响 | True| \n",
    " |20 | * | 蜷缩 | * | True| \n",
    " |24 | * | * | 浊响 | True| \n",
    " |1 | 青绿 | 蜷缩 | 沉闷 | False| \n",
    " |3 | 青绿 | 稍蜷 | 浊响 | False| \n",
    " |4 | 青绿 | 稍蜷 | 沉闷 | False| \n",
    " |5 | 青绿 | 稍蜷 | * | False| \n",
    " |7 | 青绿 | * | 沉闷 | False| \n",
    " |9 | 乌黑 | 蜷缩 | 浊响 | False| \n",
    " |10 | 乌黑 | 蜷缩 | 沉闷 | False| \n",
    " |11 | 乌黑 | 蜷缩 | * | False| \n",
    " |12 | 乌黑 | 稍蜷 | 浊响 | False| \n",
    " |13 | 乌黑 | 稍蜷 | 沉闷 | False| \n",
    " |14 | 乌黑 | 稍蜷 | * | False| \n",
    " |15 | 乌黑 | * | 浊响 | False| \n",
    " |16 | 乌黑 | * | 沉闷 | False| \n",
    " |17 | 乌黑 | * | * | False| \n",
    " |19 | * | 蜷缩 | 沉闷 | False| \n",
    " |21 | * | 稍蜷 | 浊响 | False| \n",
    " |22 | * | 稍蜷 | 沉闷 | False| \n",
    " |23 | * | 稍蜷 | * | False| \n",
    " |25 | * | * | 沉闷 | False| \n",
    " |26 | * | * | * | False| \n",
    " |27 | - | - | - | False| "
   ]
  },
  {
   "cell_type": "markdown",
   "metadata": {},
   "source": [
    "# 1.2\n",
    "\n",
    "看不懂，参考[此处](https://blog.csdn.net/dicker6315/article/details/81265066)"
   ]
  },
  {
   "cell_type": "markdown",
   "metadata": {},
   "source": [
    "# 1.3\n",
    "\n",
    "首先最简单的方法，把相冲突的样本都删除；或选择能够满足最多样本的假设。"
   ]
  }
 ],
 "metadata": {
  "kernelspec": {
   "display_name": "Python 3",
   "language": "python",
   "name": "python3"
  },
  "language_info": {
   "codemirror_mode": {
    "name": "ipython",
    "version": 3
   },
   "file_extension": ".py",
   "mimetype": "text/x-python",
   "name": "python",
   "nbconvert_exporter": "python",
   "pygments_lexer": "ipython3",
   "version": "3.6.5"
  }
 },
 "nbformat": 4,
 "nbformat_minor": 2
}
