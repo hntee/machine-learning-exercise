{
 "cells": [
  {
   "cell_type": "markdown",
   "metadata": {},
   "source": [
    "## 2.1 数据集包括1000个样本，正反例1:1.划分为70%的训练集和30%的测试集，用留出法评估。试估算有多少种划分方式。"
   ]
  },
  {
   "cell_type": "markdown",
   "metadata": {},
   "source": [
    "留出法：将样本划分为互斥的两个集合作为训练集和测试集。\n",
    "500个正例的70%为：350，负例一样，则整体的分类划分方式有\n",
    "\n",
    "$C^{350}_{700} * C^{350}_{700}$\n",
    "\n",
    "种"
   ]
  },
  {
   "cell_type": "markdown",
   "metadata": {},
   "source": [
    "##  2.2 题：数据集包含100个样本，其中正反例各一半，假定学习算法所产生的模型是将新样本预测为训练样本数较多的类别（训练样本数相同时进行随机猜测），试给出用10折交叉验证法和留一法分别对错误率进行评估所得的结果。"
   ]
  },
  {
   "cell_type": "markdown",
   "metadata": {},
   "source": [
    "若使用10折交叉验证：采用分层抽样的方法，从50个正例抽样5个+50个反例抽样5个，组成一个10个样本的测试集。则由于训练样本数正反例一样，错误率50%.\n",
    "若使用留一法：不妨设取走的样本分类为正类，则训练集中剩下50个负例与49个正例。预测一定错误。对每一个取走的样本都由此效果，故错误率100%."
   ]
  },
  {
   "cell_type": "markdown",
   "metadata": {},
   "source": [
    "## 2.3 若学习器A的F1值比学习器B高，试析A的BEP值是否也比B高。"
   ]
  },
  {
   "cell_type": "markdown",
   "metadata": {},
   "source": [
    "已知\n",
    "\n",
    "$P = \\frac{TP} { TP + FP} $\n",
    "\n",
    "$R = \\frac{TP} { TP + FN}$\n",
    "\n",
    "$F_1 = 2* \\frac{PR}{P+R}$\n",
    "\n",
    "则"
   ]
  },
  {
   "cell_type": "markdown",
   "metadata": {},
   "source": [
    "\n",
    "\n",
    "$F_{1A} = 2 * \\frac{P_A * R_A}{P_A + R_A}$\n",
    "\n",
    "$F_{1B} = 2 * \\frac{P_B * R_B}{P_B + R_B}$\n",
    "\n",
    "在A的BEP，$P_A = R_A$, B的BEP亦同。\n",
    "\n",
    "设$P_A = R_A = A$, $P_B = R_B = B$ \n",
    "\n",
    "此处$F_{1A} = 2 * A^2 / 2A = A > F_{1B} = 2 * B^2 / 2B = B$\n",
    "\n",
    "故有A的BEP值大于B的BEP值。"
   ]
  },
  {
   "cell_type": "markdown",
   "metadata": {},
   "source": [
    "## 2.4 试述真正例率（TPR）、假正例率（FPR）与查准率（P）、查全率（R）之间的联系。"
   ]
  },
  {
   "cell_type": "markdown",
   "metadata": {},
   "source": [
    "查准率 P：预测正例中，真正例的比例\n",
    "\n",
    "查全率 R：所有正例中，被预测为正例的比例\n",
    "\n",
    "真正例率 TPR：所有正例中，被预测为正例的比例\n",
    "\n",
    "假正例率 FPR：所有负例中，假正例的比例\n",
    "\n",
    "R = TPR\n"
   ]
  }
 ],
 "metadata": {
  "kernelspec": {
   "display_name": "Python 3",
   "language": "python",
   "name": "python3"
  },
  "language_info": {
   "codemirror_mode": {
    "name": "ipython",
    "version": 3
   },
   "file_extension": ".py",
   "mimetype": "text/x-python",
   "name": "python",
   "nbconvert_exporter": "python",
   "pygments_lexer": "ipython3",
   "version": "3.6.5"
  }
 },
 "nbformat": 4,
 "nbformat_minor": 2
}
